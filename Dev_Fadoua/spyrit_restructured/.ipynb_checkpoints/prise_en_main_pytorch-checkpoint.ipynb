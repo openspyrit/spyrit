{
 "cells": [
  {
   "cell_type": "markdown",
   "id": "4d30c149-2779-428a-97df-7114bab325d4",
   "metadata": {},
   "source": [
    "# Standard imports"
   ]
  },
  {
   "cell_type": "code",
   "execution_count": null,
   "id": "2a375019-b743-431f-9bcd-0183a8982566",
   "metadata": {},
   "outputs": [],
   "source": [
    "import torch\n",
    "import torch.nn as nn # All neural network modules, nn.Linear, nn.Conv2d, BatchNorm, Loss functions\n",
    "import torch.optim as optim # For all Optimization algorithms, SGD, Adam, etc.\n",
    "import torch.nn.functional as F # All functions that don't have any parameters (ex. activation functions)\n",
    "from torch.utils.data import DataLoader # Gives easier dataset managment and creates mini batches\n",
    "import torchvision.datasets as datasets # Has standard datasets we can import in a nice and easy way\n",
    "import torchvision.transforms as transforms # Transformations we can perform on our dataset"
   ]
  },
  {
   "cell_type": "markdown",
   "id": "220dffd7-6025-4951-887f-29ce37890090",
   "metadata": {},
   "source": [
    "# to import a pytorch standard dataset"
   ]
  },
  {
   "cell_type": "code",
   "execution_count": null,
   "id": "347910ad-2e1a-4235-9581-e01a81b4de08",
   "metadata": {},
   "outputs": [],
   "source": [
    "import torchvision\n",
    "from torch.utils.data import DataLoader # data management \n",
    "import torchvision.datasets as datasets # standard datasets\n",
    "import torchvision.transforms as transforms # data processing"
   ]
  },
  {
   "cell_type": "code",
   "execution_count": null,
   "id": "309cdd39-e996-42da-8d28-e55d704b9261",
   "metadata": {},
   "outputs": [],
   "source": []
  }
 ],
 "metadata": {
  "kernelspec": {
   "display_name": "Python 3 (ipykernel)",
   "language": "python",
   "name": "python3"
  },
  "language_info": {
   "codemirror_mode": {
    "name": "ipython",
    "version": 3
   },
   "file_extension": ".py",
   "mimetype": "text/x-python",
   "name": "python",
   "nbconvert_exporter": "python",
   "pygments_lexer": "ipython3",
   "version": "3.9.7"
  }
 },
 "nbformat": 4,
 "nbformat_minor": 5
}
