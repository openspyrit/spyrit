{
  "cells": [
    {
      "attachments": {},
      "cell_type": "markdown",
      "metadata": {
        "id": "XjEF8KnF02Qb"
      },
      "source": [
        "[![Open In Colab](https://colab.research.google.com/assets/colab-badge.svg)](https://colab.research.google.com/github/openspyrit/spyrit/blob/demo_colab/spyrit/tutorial/tuto_train_colab.ipynb)"
      ]
    },
    {
      "attachments": {},
      "cell_type": "markdown",
      "metadata": {
        "id": "fSYa0OFd02Qi"
      },
      "source": [
        "# Demo to train DCNET for 2D single-pixel reconstruction"
      ]
    },
    {
      "attachments": {},
      "cell_type": "markdown",
      "metadata": {
        "id": "EwiEpF14WVVU"
      },
      "source": [
        "Demo to train DCNET (data completion + UNet with 0.5M trainable parameters) for 2D single-pixel imaging with Poisson noise (100 photons) and undersampling factor of 4, on stl10 dataset."
      ]
    },
    {
      "attachments": {},
      "cell_type": "markdown",
      "metadata": {
        "id": "BBQltUP002Ql"
      },
      "source": [
        "## Settings and requirements"
      ]
    },
    {
      "attachments": {},
      "cell_type": "markdown",
      "metadata": {
        "id": "Yd7A4pgu02Qm"
      },
      "source": [
        "First, we mount google drive"
      ]
    },
    {
      "cell_type": "code",
      "execution_count": null,
      "metadata": {
        "colab": {
          "base_uri": "https://localhost:8080/"
        },
        "id": "X8NjpWn702Qo",
        "outputId": "6cacf654-cc6c-4fa0-92e6-4b34968a5f5e"
      },
      "outputs": [],
      "source": [
        "mode_colab = False\n",
        "if (mode_colab is True):\n",
        "    # Connect to googledrive\n",
        "    #if 'google.colab' in str(get_ipython()):\n",
        "    # Mount google drive to access files via colab\n",
        "    from google.colab import drive\n",
        "    drive.mount(\"/content/gdrive\")\n",
        "    %cd /content/gdrive/MyDrive/"
      ]
    },
    {
      "cell_type": "code",
      "execution_count": null,
      "metadata": {
        "id": "_tUHlVRP02Qy"
      },
      "outputs": [],
      "source": [
        "import os"
      ]
    },
    {
      "attachments": {},
      "cell_type": "markdown",
      "metadata": {
        "id": "WgUoyKpV02Qz"
      },
      "source": [
        "Can choose GPU at Runtime/Change runtime type"
      ]
    },
    {
      "cell_type": "code",
      "execution_count": null,
      "metadata": {
        "colab": {
          "base_uri": "https://localhost:8080/"
        },
        "id": "yit1qucw-X0W",
        "outputId": "7ab029e1-99b8-45f8-bbe2-64a3d2628854"
      },
      "outputs": [],
      "source": [
        "!nvidia-smi"
      ]
    },
    {
      "attachments": {},
      "cell_type": "markdown",
      "metadata": {
        "id": "FaFS33X002Q0"
      },
      "source": [
        "### Clone Spyrit package"
      ]
    },
    {
      "attachments": {},
      "cell_type": "markdown",
      "metadata": {
        "id": "_RaG2Pjq02Q1"
      },
      "source": [
        "Clone and install spyrit package if not installed"
      ]
    },
    {
      "cell_type": "code",
      "execution_count": null,
      "metadata": {
        "colab": {
          "base_uri": "https://localhost:8080/"
        },
        "id": "f9U8b1TQ3Jqh",
        "outputId": "24e7bf08-a893-40e3-c3d7-3c732869b6ba"
      },
      "outputs": [],
      "source": [
        "!pwd"
      ]
    },
    {
      "cell_type": "code",
      "execution_count": null,
      "metadata": {
        "colab": {
          "base_uri": "https://localhost:8080/"
        },
        "id": "gHvvGpp802Q2",
        "outputId": "7cbaf1e7-7b38-4e2e-b464-7e348cc53942"
      },
      "outputs": [],
      "source": [
        "#%%capture\n",
        "install_spyrit = False\n",
        "if (mode_colab is True):\n",
        "    if install_spyrit is True:\n",
        "        # Clone and install\n",
        "        !git clone https://github.com/openspyrit/spyrit.git\n",
        "        %cd spyrit\n",
        "        !pip install -e .\n",
        "\n",
        "        # Checkout to ongoing branch\n",
        "        !git checkout demo_colab\n",
        "    else:\n",
        "        # cd to spyrit folder is already cloned in your drive\n",
        "        %cd /content/gdrive/MyDrive/Colab_Notebooks/openspyrit/spyrit\n",
        "\n",
        "    # Add paths for modules\n",
        "    import sys\n",
        "    sys.path.append('./spyrit/core')\n",
        "    sys.path.append('./spyrit/misc')\n",
        "else:\n",
        "    # Change path to spyrit/\n",
        "    os.chdir('../..')"
      ]
    },
    {
      "attachments": {},
      "cell_type": "markdown",
      "metadata": {
        "id": "5cXZ4qDf1cbM"
      },
      "source": [
        "Or move to spyrit folder"
      ]
    },
    {
      "attachments": {},
      "cell_type": "markdown",
      "metadata": {
        "id": "5amn6cuQ02Q4"
      },
      "source": [
        "## Download data"
      ]
    },
    {
      "attachments": {},
      "cell_type": "markdown",
      "metadata": {
        "id": "20Nec1B302Q6"
      },
      "source": [
        "Clone and install the spas package (more details here). Tested with spas v1.4.\n",
        "\n"
      ]
    },
    {
      "cell_type": "code",
      "execution_count": null,
      "metadata": {
        "id": "-l_5Rrne02Q7"
      },
      "outputs": [],
      "source": [
        "install_spas = False\n",
        "if (mode_colab is True) and (install_spas is True):\n",
        "    !pip install -e git+https://github.com/openspyrit/spas.git@v1.4#egg=spas\n",
        "    !python3 ./spyrit-examples/2022_OE_spyrit2/download_data.py"
      ]
    },
    {
      "attachments": {},
      "cell_type": "markdown",
      "metadata": {
        "id": "bndt6xca2sz5"
      },
      "source": [
        "Or download data to *data/* and mean and covariance matrices to *stat/*\n",
        "```\n",
        "  python3 ./spyrit-examples/2022_OE_spyrit2/download_data.py\n",
        "```"
      ]
    },
    {
      "cell_type": "code",
      "execution_count": null,
      "metadata": {},
      "outputs": [],
      "source": [
        "# Parameters\n",
        "N0 = 100\n",
        "M = 1024 \n",
        "data_root = './data/' \n",
        "data = 'stl10'\n",
        "stat_root = './stat'\n",
        "tb_path = 'runs/runs_stdl10_n100_m1024'\n",
        "tb_prof = True"
      ]
    },
    {
      "cell_type": "code",
      "execution_count": null,
      "metadata": {
        "colab": {
          "base_uri": "https://localhost:8080/"
        },
        "id": "NbC-7PQU02Q8",
        "outputId": "5ccd3de7-ccb9-431d-f61b-732dba88e163"
      },
      "outputs": [],
      "source": [
        "# Run tuto_train\n",
        "if (mode_colab is True):\n",
        "    #!python3 /content/gdrive/MyDrive/Colab_Notebooks/openspyrit/spyrit/spyrit/tutorial/tuto_train.py --N0 100 --M 1024 --data_root './data/' --data 'stl10' --stat_root './stat'\n",
        "    !python3 /content/gdrive/MyDrive/Colab_Notebooks/openspyrit/spyrit/spyrit/tutorial/tuto_train.py --N0 $N0 --M $M --data_root $data_root --data $data --stat_root $stat_root --tb_path $tb_path $tb_prof\n",
        "else:\n",
        "    !python3 spyrit/tutorial/tuto_train.py --N0 $N0 --M $M --data_root $data_root --data $data --stat_root $stat_root --tb_path $tb_path --tb_prof $tb_prof"
      ]
    },
    {
      "cell_type": "code",
      "execution_count": null,
      "metadata": {
        "id": "RWBrm3t3UyC1"
      },
      "outputs": [],
      "source": [
        "# Launch TensorBoard\n",
        "%tensorboard --logdir $tb_path"
      ]
    },
    {
      "attachments": {},
      "cell_type": "markdown",
      "metadata": {
        "id": "E-GIveDuZIPP"
      },
      "source": [
        "## Evaluate the trained model"
      ]
    },
    {
      "cell_type": "code",
      "execution_count": null,
      "metadata": {
        "id": "ntosAcWPZLRI"
      },
      "outputs": [],
      "source": []
    }
  ],
  "metadata": {
    "accelerator": "GPU",
    "colab": {
      "gpuType": "V100",
      "machine_shape": "hm",
      "provenance": []
    },
    "kernelspec": {
      "display_name": "Python 3",
      "name": "python3"
    },
    "language_info": {
      "codemirror_mode": {
        "name": "ipython",
        "version": 3
      },
      "file_extension": ".py",
      "mimetype": "text/x-python",
      "name": "python",
      "nbconvert_exporter": "python",
      "pygments_lexer": "ipython3",
      "version": "3.11.3"
    },
    "orig_nbformat": 4
  },
  "nbformat": 4,
  "nbformat_minor": 0
}
